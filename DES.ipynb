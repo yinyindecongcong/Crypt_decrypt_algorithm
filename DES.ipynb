{
 "cells": [
  {
   "cell_type": "markdown",
   "metadata": {},
   "source": [
    "### DES\n",
    "\n",
    "<img src=\"https://s1.ax1x.com/2018/11/14/ijyQK0.png\" width=600>\n",
    "\n",
    "1. 明文的初始置换与逆初始置换\n",
    "\n",
    "2. 轮密钥的生成：PC1置换->56位密钥、重复（循环移位、PC2置换->48位 $K_i$）\n",
    "\n",
    "3. 每一轮做F运算：每一轮的32位 $R_i$->E盒扩展(48位)->与48位 $K_i$异或 ->S盒代替(32位)->P盒置换(32位)\n",
    "\n",
    "其中，\n",
    "\n",
    "* E盒扩展将32位输入扩展为48位，使得后面可以与密钥做异或，具体扩展如下图$\\ ^{[2]}$：\n",
    "\n",
    "<img src=\"https://img-blog.csdn.net/20160908111040111\" width=400>\n",
    "\n",
    "* S盒代替将为48位数据分为8组，每组6位，分别输入到8个S盒中，每个输出4位，得到8 * 4 = 32位输出，以盒8为例$\\ ^{[2]}$\n",
    "\n",
    "<img src=\"https://img-blog.csdn.net/20160908123901711\">\n",
    "\n",
    "若第43-48位输入为110011，第1位和最后1位组成行，中间4位组成列，则对应（第11->4行第1001->9列），即12，所以输出为1100\n",
    "\n",
    "### 【参考文章】\n",
    "[1.DES算法原理与Java实现](https://blog.csdn.net/android_jiangjun/article/details/79654940)\n",
    "\n",
    "[2.DES算法原理完整版](https://blog.csdn.net/qq_27570955/article/details/52442092)"
   ]
  },
  {
   "cell_type": "code",
   "execution_count": 1,
   "metadata": {
    "collapsed": true
   },
   "outputs": [],
   "source": [
    "import numpy as np"
   ]
  },
  {
   "cell_type": "markdown",
   "metadata": {},
   "source": [
    "#### 明文的初始置换与逆初始置换"
   ]
  },
  {
   "cell_type": "code",
   "execution_count": 2,
   "metadata": {
    "collapsed": true
   },
   "outputs": [],
   "source": [
    "#初始置换\n",
    "IP = np.array([57, 49, 41, 33, 25, 17,  9,  1,\n",
    "               59, 51, 43, 35, 27, 19, 11,  3, \n",
    "               61, 53, 45, 37, 29, 21, 13,  5,\n",
    "               63, 55, 47, 39, 31, 23, 15,  7,\n",
    "               56, 48, 40, 32, 24, 16,  8,  0,\n",
    "               58, 50, 42, 34, 26, 18, 10,  2,\n",
    "               60, 52, 44, 36, 28, 20, 12,  4,\n",
    "               62, 54, 46, 38, 30, 22, 14,  6])\n",
    "#逆初始置换\n",
    "IP_1 = np.array([39,  7, 47, 15, 55, 23, 63, 31,\n",
    "                 38,  6, 46, 14, 54, 22, 62, 30,\n",
    "                 37,  5, 45, 13, 53, 21, 61, 29,\n",
    "                 36,  4, 44, 12, 52, 20, 60, 28,\n",
    "                 35,  3, 43, 11, 51, 19, 59, 27,\n",
    "                 34,  2, 42, 10, 50, 18, 58, 26,\n",
    "                 33,  1, 41,  9, 49, 17, 57, 25,\n",
    "                 32,  0, 40,  8, 48, 16, 56, 24])"
   ]
  },
  {
   "cell_type": "markdown",
   "metadata": {},
   "source": [
    "#### 轮密钥的置换、移位"
   ]
  },
  {
   "cell_type": "code",
   "execution_count": 3,
   "metadata": {
    "collapsed": true
   },
   "outputs": [],
   "source": [
    " #PC1置换\n",
    "PC1 = np.array([57,49,41,33,25,17, 9,\n",
    "                 1,58,50,42,34,26,18,\n",
    "                10, 2,59,51,43,35,27,\n",
    "                19,11, 3,60,52,44,36,\n",
    "                63,55,47,39,31,23,15,\n",
    "                 7,62,54,46,38,30,22,\n",
    "                14, 6,61,53,45,37,29,\n",
    "                21,13, 5,28,20,12, 4])\n",
    "#PC2置换\n",
    "PC2 = np.array([14,17,11,24, 1, 5, 3,28,\n",
    "                15, 6,21,10,23,19,12, 4,\n",
    "                26, 8,16, 7,27,20,13, 2,\n",
    "                41,52,31,37,47,55,30,40,\n",
    "                51,45,33,48,44,49,39, 0,\n",
    "                34,53,46,42,50,36,29,32])\n",
    "#每轮左移的位数\n",
    "LFT=np.array([1,1,2,2,2,2,2,2,1,2,2,2,2,2,2,1])"
   ]
  },
  {
   "cell_type": "markdown",
   "metadata": {},
   "source": [
    "#### 根据密钥生成16个轮密钥$K_i$"
   ]
  },
  {
   "cell_type": "code",
   "execution_count": 4,
   "metadata": {
    "collapsed": true
   },
   "outputs": [],
   "source": [
    "def itobs(num, n=8): #整数转为bit数组，n为位数\n",
    "    res = np.zeros(n, dtype=bool)\n",
    "    bs = bin(num)[2:]\n",
    "    for i in range(len(bs)):\n",
    "        res[-i-1] = (bs[-i-1] == '1')\n",
    "    return res\n",
    "\n",
    "def bstoi(bs, n=8): #bit数组转为整数，n为位数\n",
    "    res = 0\n",
    "    for i in range(n):\n",
    "        res = res * 2 + int(bs[i])\n",
    "    return res"
   ]
  },
  {
   "cell_type": "code",
   "execution_count": 5,
   "metadata": {
    "collapsed": true
   },
   "outputs": [],
   "source": [
    "#64位密钥，8个字母\n",
    "def get_data_64_bit(key):\n",
    "    key_bitset = np.zeros(64,dtype=bool) #0表示最高位\n",
    "    for i in range(len(key)):\n",
    "        key_bitset[i * 8: (i + 1) * 8] = itobs(ord(key[i]), 8)\n",
    "    return key_bitset"
   ]
  },
  {
   "cell_type": "code",
   "execution_count": 6,
   "metadata": {
    "collapsed": true
   },
   "outputs": [],
   "source": [
    "def substitute(sub_list, to_sub): #sub_list为置换表\n",
    "    res = np.zeros(len(sub_list), dtype=bool)\n",
    "    for i in range(len(sub_list)):\n",
    "        res[i] = to_sub[sub_list[i]]\n",
    "    return res"
   ]
  },
  {
   "cell_type": "code",
   "execution_count": 7,
   "metadata": {
    "collapsed": true
   },
   "outputs": [],
   "source": [
    "def left_shift_and_sub(key_bitset_after): #获得16个密钥\n",
    "    res = []\n",
    "    for i in range(len(LFT)):\n",
    "        key_bitset_after = np.append(key_bitset_after[LFT[i]:], key_bitset_after[:LFT[i]])\n",
    "        K_i = substitute(PC2, key_bitset_after)\n",
    "        res.append(K_i)\n",
    "    return res"
   ]
  },
  {
   "cell_type": "markdown",
   "metadata": {},
   "source": [
    "#### F运算：E扩展、P置换、8个S盒"
   ]
  },
  {
   "cell_type": "code",
   "execution_count": 8,
   "metadata": {
    "collapsed": true
   },
   "outputs": [],
   "source": [
    "#E扩展\n",
    "E=np.array([31, 0, 1, 2, 3, 4,\n",
    "             3, 4, 5, 6, 7, 8,\n",
    "             7, 8, 9,10,11,12,\n",
    "            11,12,13,14,15,16,\n",
    "            15,16,17,18,19,20,\n",
    "            19,20,21,22,23,24,\n",
    "            23,24,25,26,27,28,\n",
    "            27,28,29,30,31, 0])\n",
    "#P置换\n",
    "P=np.array([16, 7,20,21,29,12,28,17,\n",
    "             1,15,23,26, 5,18,31,10,\n",
    "             2, 8,24,14, 0,27, 3, 9,\n",
    "            19,13,30, 6,22,11, 4,25])\n",
    "#S-盒\n",
    "S_Box1 = np.array([[14, 4, 13, 1, 2, 15, 11, 8, 3, 10, 6, 12, 5, 9, 0, 7 ],\n",
    "                    [0, 15, 7, 4, 14, 2, 13, 1, 10, 6, 12, 11, 9, 5, 3, 8],\n",
    "                    [4, 1, 14, 8, 13, 6, 2, 11, 15, 12, 9, 7, 3, 10, 5, 0],\n",
    "                    [15, 12, 8, 2, 4, 9, 1, 7, 5, 11, 3, 14, 10, 0, 6, 13]])\n",
    "\n",
    "S_Box2 = np.array([[15, 1, 8, 14, 6, 11, 3, 4, 9, 7, 2, 13, 12, 0, 5, 10],\n",
    "                    [3, 13, 4, 7, 15, 2, 8, 14, 12, 0, 1, 10, 6, 9, 11, 5],\n",
    "                    [0, 14, 7, 11, 10, 4, 13, 1, 5, 8, 12, 6, 9, 3, 2, 15],\n",
    "                    [13, 8, 10, 1, 3, 15, 4, 2, 11, 6, 7, 12, 0, 5, 14, 9]])\n",
    "\n",
    "S_Box3 = np.array([[10, 0, 9, 14, 6, 3, 15, 5, 1, 13, 12, 7, 11, 4, 2, 8],\n",
    "                    [13, 7, 0, 9, 3, 4, 6, 10, 2, 8, 5, 14, 12, 11, 15, 1],\n",
    "                    [13, 6, 4, 9, 8, 15, 3, 0, 11, 1, 2, 12, 5, 10, 14, 7],\n",
    "                    [1, 10, 13, 0, 6, 9, 8, 7, 4, 15, 14, 3, 11, 5, 2, 12]])\n",
    "\n",
    "S_Box4 = np.array([[7, 13, 14, 3, 0, 6, 9, 10, 1, 2, 8, 5, 11, 12, 4, 15],\n",
    "                    [13, 8, 11, 5, 6, 15, 0, 3, 4, 7, 2, 12, 1, 10, 14, 9],\n",
    "                    [10, 6, 9, 0, 12, 11, 7, 13, 15, 1, 3, 14, 5, 2, 8, 4],\n",
    "                    [3, 15, 0, 6, 10, 1, 13, 8, 9, 4, 5, 11, 12, 7, 2, 14]])\n",
    "\n",
    "S_Box5 = np.array([[14, 4, 13, 1, 2, 15, 11, 8, 3, 10, 6, 12, 5, 9, 0, 7 ],\n",
    "                    [0, 15, 7, 4, 14, 2, 13, 1, 10, 6, 12, 11, 9, 5, 3, 8],\n",
    "                    [4, 1, 14, 8, 13, 6, 2, 11, 15, 12, 9, 7, 3, 10, 5, 0],\n",
    "                    [15, 12, 8, 2, 4, 9, 1, 7, 5, 11, 3, 14, 10, 0, 6, 13]])\n",
    "\n",
    "S_Box6 = np.array([[15, 1, 8, 14, 6, 11, 3, 4, 9, 7, 2, 13, 12, 0, 5, 10],\n",
    "                    [3, 13, 4, 7, 15, 2, 8, 14, 12, 0, 1, 10, 6, 9, 11, 5],\n",
    "                    [0, 14, 7, 11, 10, 4, 13, 1, 5, 8, 12, 6, 9, 3, 2, 15],\n",
    "                    [13, 8, 10, 1, 3, 15, 4, 2, 11, 6, 7, 12, 0, 5, 14, 9]])\n",
    "\n",
    "S_Box7 = np.array([[10, 0, 9, 14, 6, 3, 15, 5, 1, 13, 12, 7, 11, 4, 2, 8],\n",
    "                    [13, 7, 0, 9, 3, 4, 6, 10, 2, 8, 5, 14, 12, 11, 15, 1],\n",
    "                    [13, 6, 4, 9, 8, 15, 3, 0, 11, 1, 2, 12, 5, 10, 14, 7],\n",
    "                    [1, 10, 13, 0, 6, 9, 8, 7, 4, 15, 14, 3, 11, 5, 2, 12]])\n",
    "\n",
    "S_Box8 = np.array([[7, 13, 14, 3, 0, 6, 9, 10, 1, 2, 8, 5, 11, 12, 4, 15],\n",
    "                    [13, 8, 11, 5, 6, 15, 0, 3, 4, 7, 2, 12, 1, 10, 14, 9],\n",
    "                    [10, 6, 9, 0, 12, 11, 7, 13, 15, 1, 3, 14, 5, 2, 8, 4],\n",
    "                    [3, 15, 0, 6, 10, 1, 13, 8, 9, 4, 5, 11, 12, 7, 2, 14]])\n",
    "    \n",
    "S_Box = np.array([S_Box1, S_Box2, S_Box3, S_Box4, S_Box5, S_Box6, S_Box7, S_Box8])"
   ]
  },
  {
   "cell_type": "code",
   "execution_count": 9,
   "metadata": {
    "collapsed": true
   },
   "outputs": [],
   "source": [
    "def S_Box_replace(E_i):\n",
    "    res = np.zeros(32, dtype=bool)\n",
    "    for i in range(8):\n",
    "        start = i * 6\n",
    "        row = E_i[start] * 2 + E_i[start+5]\n",
    "        col = E_i[start+4] + E_i[start+3] * 2 + E_i[start+2]*4 + E_i[start + 1] * 8\n",
    "        res[i * 4: (i + 1) * 4] = itobs(S_Box[i][row][col],n=4)\n",
    "    return res\n",
    "\n",
    "def XOR(A, B):\n",
    "    res = np.zeros(len(A), dtype=bool)\n",
    "    for i in range(len(A)):\n",
    "        res[i] = A[i] ^ B[i]\n",
    "    return res\n",
    "\n",
    "def F(R_i, K_i): \n",
    "    E_i = substitute(E, R_i) #E扩展\n",
    "    E_out = XOR(E_i, K_i)    #异或\n",
    "    S_out = S_Box_replace(E_out) #S盒代替\n",
    "    res = substitute(P, S_out)#P置换\n",
    "    return res"
   ]
  },
  {
   "cell_type": "markdown",
   "metadata": {},
   "source": [
    "#### DES加密、解密算法"
   ]
  },
  {
   "cell_type": "code",
   "execution_count": 10,
   "metadata": {
    "collapsed": true
   },
   "outputs": [],
   "source": [
    "def DES_encryp_decryp_64(data, K_all, cryp=1):\n",
    "    res = substitute(IP, data)       #初始置换\n",
    "    for i in range(len(K_all)):      #16轮加密\n",
    "        F_res = F(res[32:], K_all[i if cryp == 1 else 15 - i])\n",
    "        R_next = XOR(F_res, res[:32])\n",
    "        res[:32] = res[32:]\n",
    "        res[32:] = R_next\n",
    "    left32, right32 = res[:32].copy(), res[32:].copy() \n",
    "    res[:32], res[32:] = right32, left32 #32位互换\n",
    "    res = substitute(IP_1, res)\n",
    "    return res    "
   ]
  },
  {
   "cell_type": "code",
   "execution_count": 11,
   "metadata": {
    "collapsed": true
   },
   "outputs": [],
   "source": [
    "def cut_data(sentence):\n",
    "    res = []\n",
    "    i = 0\n",
    "    while (i + 1) * 8 <= len(sentence):\n",
    "        data = get_data_64_bit(sentence[i * 8: (i + 1) * 8])\n",
    "        res.append(data)\n",
    "        i += 1\n",
    "    if i * 8 < len(sentence):\n",
    "        data = get_data_64_bit(sentence[i * 8:])\n",
    "        res.append(data)\n",
    "    return res"
   ]
  },
  {
   "cell_type": "code",
   "execution_count": 12,
   "metadata": {
    "collapsed": true
   },
   "outputs": [],
   "source": [
    "def DES_encryp_decryp_sentence(sentence, K_all, cryp=1):\n",
    "    data_all = cut_data(sentence)\n",
    "    res = []\n",
    "    for each in data_all:\n",
    "        res.append(DES_encryp_decryp_64(each, K_all, cryp))\n",
    "    res_sentence = ''\n",
    "    for each in res:\n",
    "        for i in range(8):\n",
    "            a = chr(bstoi(each[i * 8: (i + 1) * 8]))\n",
    "            if a == '\\0': return res_sentence\n",
    "            res_sentence += chr(bstoi(each[i * 8: (i + 1) * 8]))\n",
    "    return res_sentence\n"
   ]
  },
  {
   "cell_type": "code",
   "execution_count": 13,
   "metadata": {
    "scrolled": true
   },
   "outputs": [
    {
     "name": "stdout",
     "output_type": "stream",
     "text": [
      "明文是： let us make an examination, this is a sentence with length 62!\n",
      "加密后： \u001e",
      ")-µDñÌ Ny«\u0011f|b\u0015{\tBSÃõnü?°¯RÎê'JÓ|äD0×È½Ä;³È?ÔrX\u001a\u0017^$\u0019ä¯,¹\n",
      "解密后： let us make an examination, this is a sentence with length 62!\n"
     ]
    }
   ],
   "source": [
    "#确定密钥\n",
    "key = 'isSecret'\n",
    "key_bitset = get_data_64_bit(key)\n",
    "key_bitset_after_sub = substitute(PC1,key_bitset)\n",
    "K_all = left_shift_and_sub(key_bitset_after_sub)\n",
    "#明文\n",
    "sentence = 'let us make an examination, this is a sentence with length 62!'\n",
    "C_sentence = DES_encryp_decryp_sentence(sentence, K_all, 1)\n",
    "P_sentence = DES_encryp_decryp_sentence(C_sentence, K_all, -1)\n",
    "print('明文是：', sentence)\n",
    "print('加密后：', C_sentence)\n",
    "print('解密后：', P_sentence)"
   ]
  },
  {
   "cell_type": "code",
   "execution_count": null,
   "metadata": {
    "collapsed": true
   },
   "outputs": [],
   "source": []
  }
 ],
 "metadata": {
  "kernelspec": {
   "display_name": "Python 3",
   "language": "python",
   "name": "python3"
  },
  "language_info": {
   "codemirror_mode": {
    "name": "ipython",
    "version": 3
   },
   "file_extension": ".py",
   "mimetype": "text/x-python",
   "name": "python",
   "nbconvert_exporter": "python",
   "pygments_lexer": "ipython3",
   "version": "3.6.3"
  }
 },
 "nbformat": 4,
 "nbformat_minor": 2
}
