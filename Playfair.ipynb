{
 "cells": [
  {
   "cell_type": "markdown",
   "metadata": {},
   "source": [
    "### Playfair密码（单表代替密码，多字母代替密码）"
   ]
  },
  {
   "cell_type": "markdown",
   "metadata": {},
   "source": [
    "**1. 根据密钥词生成 5 x 5 矩阵**\n",
    "\n",
    "**1. 将明文分割成字母对，若字母对字母相同，在中间加一个填充字母，如x。`eg:balloon先变成ba,lx,lo,on`**\n",
    "\n",
    "**2. 对每个字母对——**\n",
    "   * 若字母在矩阵的同一行，则每个字母由其右边的字母代替，`eg: AR->RM`\n",
    "   * 若字母在矩阵的同一列，则每个字母由其下边的字母代替，`eg: MU->CM`\n",
    "   * 否则对每个字母，其行为密文的所在行，另一字母的列为密文所在列，`eg:HS->BP`"
   ]
  },
  {
   "cell_type": "code",
   "execution_count": 7,
   "metadata": {
    "collapsed": true
   },
   "outputs": [],
   "source": [
    "import numpy as np\n",
    "import re \n",
    "#使用字典存储\n",
    "alphabet = 'abcdefghiklmnopqrstuvwxyz'\n",
    "def create_matrix(word):\n",
    "    res = {} #key为字母/下标，value为下标/字母\n",
    "    count = 0\n",
    "    for each in word.lower() + alphabet:\n",
    "        if each == 'j': each = 'i'\n",
    "        if res.get(each,-1) == -1: \n",
    "            res[each] = count\n",
    "            res[count] = each\n",
    "            count += 1\n",
    "    return res\n",
    "\n",
    "def crypt_one_word(word, mat):\n",
    "    word = re.sub(r'j', 'i', word.lower())\n",
    "    cut, res = word[0], ''\n",
    "    for i in range(1, len(word)):\n",
    "        cut += word[i] if len(cut) % 2 == 0 or word[i] != cut[-1] else 'x' + word[i]\n",
    "    if len(cut) % 2: cut += 'x'\n",
    "    for i in range(0,len(cut),2):\n",
    "        pos1, pos2 = mat[cut[i]], mat[cut[i+1]]\n",
    "        if pos1 // 5 == pos2 // 5:\n",
    "            res += mat[pos1 // 5 * 5 + (pos1 + 1) % 5] + mat[pos2 // 5 * 5 + (pos2 + 1) % 5]\n",
    "        elif pos1 % 5 == pos2 % 5:\n",
    "            res += mat[(pos1 // 5 + 1) % 5 * 5 + pos1 % 5] + mat[(pos2 // 5 + 1) % 5 * 5 + pos1 % 5]\n",
    "        else:\n",
    "            res += mat[pos1 // 5 * 5 + pos2 % 5] + mat[pos2 // 5 * 5 + pos1 % 5]\n",
    "    return res\n",
    "            \n",
    "def crypt_sentence(sentence, mat):\n",
    "    res = sentence\n",
    "    for word in re.findall(r'[a-zA-Z]+', sentence):\n",
    "        res = re.sub('\\\\b' + word + '\\\\b', crypt_one_word(word, mat), res)\n",
    "    return res\n",
    "\n",
    "def decrypt_one_word(word, mat):\n",
    "    res = ''\n",
    "    for i in range(0,len(word),2):\n",
    "        pos1, pos2 = mat[word[i]], mat[word[i+1]]\n",
    "        if pos1 // 5 == pos2 // 5:\n",
    "            res += mat[pos1 // 5 * 5 + (pos1 - 1) % 5] + mat[pos2 // 5 * 5 + (pos2 - 1) % 5]\n",
    "        elif pos1 % 5 == pos2 % 5:\n",
    "            res += mat[(pos1 // 5 - 1) % 5 * 5 + pos1 % 5] + mat[(pos2 // 5 - 1) % 5 * 5 + pos1 % 5]\n",
    "        else:\n",
    "            res += mat[pos1 // 5 * 5 + pos2 % 5] + mat[pos2 // 5 * 5 + pos1 % 5]\n",
    "    return res\n",
    "\n",
    "def decrypt_sentence(sentence, mat):\n",
    "    res = sentence\n",
    "    for word in re.findall(r'[a-zA-Z]+', sentence):\n",
    "        res = re.sub('\\\\b' + word + '\\\\b', decrypt_one_word(word, mat), res)\n",
    "    return res"
   ]
  },
  {
   "cell_type": "code",
   "execution_count": 8,
   "metadata": {
    "collapsed": true
   },
   "outputs": [],
   "source": [
    "matrix = create_matrix('monarchy')"
   ]
  },
  {
   "cell_type": "code",
   "execution_count": 11,
   "metadata": {},
   "outputs": [
    {
     "name": "stdout",
     "output_type": "stream",
     "text": [
      "明文：i like this ball!\n",
      "密文：sa seef pdsx ibsusu!\n",
      "解密：ix like this balxlx!\n"
     ]
    }
   ],
   "source": [
    "sentence = 'i like this ball!'\n",
    "C = crypt_sentence(sentence, matrix)\n",
    "P = decrypt_sentence(C, matrix)\n",
    "print(\"明文：\" + sentence)\n",
    "print(\"密文：\" + C)\n",
    "print(\"解密：\" + P)"
   ]
  },
  {
   "cell_type": "code",
   "execution_count": null,
   "metadata": {
    "collapsed": true
   },
   "outputs": [],
   "source": []
  }
 ],
 "metadata": {
  "kernelspec": {
   "display_name": "Python 3",
   "language": "python",
   "name": "python3"
  },
  "language_info": {
   "codemirror_mode": {
    "name": "ipython",
    "version": 3
   },
   "file_extension": ".py",
   "mimetype": "text/x-python",
   "name": "python",
   "nbconvert_exporter": "python",
   "pygments_lexer": "ipython3",
   "version": "3.6.3"
  }
 },
 "nbformat": 4,
 "nbformat_minor": 2
}
