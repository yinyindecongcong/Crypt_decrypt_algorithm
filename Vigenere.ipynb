{
 "cells": [
  {
   "cell_type": "markdown",
   "metadata": {},
   "source": [
    "### Vigenere密码（多表代替密码）"
   ]
  },
  {
   "cell_type": "markdown",
   "metadata": {},
   "source": [
    "**1. 最简单的多表代替密码，即使用不同的单表代替**\n",
    "\n",
    "**2. 代替表为 $m$ 个Caesar代替表，$m$ 的大小由密钥词决定 **\n",
    "\n",
    "**3. 加密过程为: $C_i = (p_i + k_{i\\  mod \\ m}) \\ mod\\  26$**\n",
    "\n",
    "**4. 解密过程为: $C_i = (p_i - k_{i\\  mod \\ m}) \\ mod\\  26$**"
   ]
  },
  {
   "cell_type": "code",
   "execution_count": 2,
   "metadata": {
    "collapsed": true
   },
   "outputs": [],
   "source": [
    "import re"
   ]
  },
  {
   "cell_type": "code",
   "execution_count": 20,
   "metadata": {},
   "outputs": [],
   "source": [
    "def cryp_decryp_Vigenere_one_word(word, skey, cryp=1): # 1 --- 加密  -1 --- 解密\n",
    "    res = ''\n",
    "    for i, letter in enumerate(word.lower()):\n",
    "        res += chr(((ord(letter) - ord('a')) + cryp * (ord(skey[i % len(skey)]) - ord('a'))) % 26 + ord('a'))\n",
    "    return res\n",
    "\n",
    "def cryp_decryp_Vigenere_sentence(sentence, skey, cryp=1):\n",
    "    res = sentence\n",
    "    for word in re.findall(r'[a-zA-Z]+', sentence):\n",
    "        res = re.sub('\\\\b' + word + '\\\\b', cryp_decryp_Vigenere_one_word(word, skey, cryp), res)\n",
    "    return res"
   ]
  },
  {
   "cell_type": "code",
   "execution_count": 21,
   "metadata": {},
   "outputs": [
    {
     "data": {
      "text/plain": [
       "'zicvtwqngrzgv'"
      ]
     },
     "execution_count": 21,
     "metadata": {},
     "output_type": "execute_result"
    },
    {
     "data": {
      "text/plain": [
       "'wearediscover'"
      ]
     },
     "execution_count": 21,
     "metadata": {},
     "output_type": "execute_result"
    }
   ],
   "source": [
    "cryp_decryp_Vigenere_one_word('wearediscover', 'deceptive', 1)\n",
    "cryp_decryp_Vigenere_one_word('zicvtwqngrzgv', 'deceptive', -1)"
   ]
  },
  {
   "cell_type": "code",
   "execution_count": 23,
   "metadata": {},
   "outputs": [
    {
     "data": {
      "text/plain": [
       "'zi dvg gmugdomm'"
      ]
     },
     "execution_count": 23,
     "metadata": {},
     "output_type": "execute_result"
    },
    {
     "data": {
      "text/plain": [
       "'we are discover'"
      ]
     },
     "execution_count": 23,
     "metadata": {},
     "output_type": "execute_result"
    }
   ],
   "source": [
    "cryp_decryp_Vigenere_sentence('we are discover', 'deceptive', 1)\n",
    "cryp_decryp_Vigenere_sentence('zi dvg gmugdomm', 'deceptive', -1)"
   ]
  },
  {
   "cell_type": "code",
   "execution_count": null,
   "metadata": {
    "collapsed": true
   },
   "outputs": [],
   "source": []
  }
 ],
 "metadata": {
  "kernelspec": {
   "display_name": "Python 3",
   "language": "python",
   "name": "python3"
  },
  "language_info": {
   "codemirror_mode": {
    "name": "ipython",
    "version": 3
   },
   "file_extension": ".py",
   "mimetype": "text/x-python",
   "name": "python",
   "nbconvert_exporter": "python",
   "pygments_lexer": "ipython3",
   "version": "3.6.3"
  }
 },
 "nbformat": 4,
 "nbformat_minor": 2
}
