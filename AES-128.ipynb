{
 "cells": [
  {
   "cell_type": "markdown",
   "metadata": {},
   "source": [
    "### AES-128\n",
    "\n",
    "明文：16字节，密钥16字节，轮数10，AES的运算是定义在$GF(2^8)$上的，其中乘法和加法操作如下：\n",
    "\n",
    "* 加法：按位异或\n",
    "* 乘法：num乘以00000010左移一位，若num最高位为1，则移位的结果再与00011011异或；更高次可重复使用上述过程得到结果。\n",
    "\n",
    "**加密流程**\n",
    "\n",
    "第0轮：明文与第0轮密钥做加密操作（轮密钥加）\n",
    "\n",
    "第1-9轮：明文与第1-9轮密钥做加密操作（字节代替、行移位、列混淆、轮密钥加）\n",
    "\n",
    "第10轮：明文与第10轮密钥做加密操作（字节代替、行移位、列混淆）\n",
    "\n",
    "**密钥的扩展**\n",
    "\n",
    "密钥被扩展为11个16字节的轮密钥，各用于每一轮的加密\n",
    "\n",
    "**明文与密钥的表示**\n",
    "\n",
    "16个字节按列排列为4 * 4的字节矩阵\n",
    "\n",
    "**各个加密操作**\n",
    "\n",
    "* 字节代替变换——\n",
    "  * S盒变换：对状态中的每个字节，高四位作为行，低四位作为列，从S盒中去对应字节作为输出\n",
    "  * 逆S盒变换类似，代替表不同\n",
    "  * S盒的构造\n",
    "\n",
    "* 行移位变换——\n",
    "  * 正向行移位：状态第一、二、三、四行分别循环左移0、1、2、3个字节\n",
    "  * 逆向则相反，即循环右移\n",
    "\n",
    "* 列混淆变换——\n",
    "  * 正向列混淆：对每列独立的进行操作，如图，其中乘法与加法都是定义在GF(2^8)上的。\n",
    "\n",
    "  <img src=\"https://s1.ax1x.com/2018/11/15/ivImyF.md.png\" width=450>\n",
    "\n",
    "  * 逆向列混淆类似，矩阵如下：\n",
    "\n",
    "  <img src=\"https://s1.ax1x.com/2018/11/15/ivI3Jx.md.png\" width=450>\n",
    "\n",
    "* 轮密钥加变换——\n",
    "\n",
    "  * 正向/逆向：128位的状态按位与128位的轮密钥异或\n",
    "\n",
    "**密钥扩展算法**\n",
    "\n",
    "* 用输入密钥（16个字节，4个字）直接作为扩展密钥数组的前4个字\n",
    "* 对之后的每个字$w[i]$，依赖于$w[i-1]$和$w[i-4]$\n",
    "  - 若 $i \\ mod \\ 4 \\ne 0$ ， 则$w[i] = w[i-1] ⊕ w[i-4]$\n",
    "  - 否则，$w[i] = G(w[i-1])⊕w[i-4] $\n",
    "  其中，G的操作如下：\n",
    "  - 字循环：把四个字节循环左移一个字节\n",
    "  - 字代替：使用S盒代替4个字节\n",
    "  - 字代替的结果与轮常量$RC[j]$异或得到输出，其中轮常量是一个字，右边三个字节为0。$RC[j]$每轮都不同，$RC[j] = 2 * RC[j-1],RC[1]=1$\n"
   ]
  },
  {
   "cell_type": "code",
   "execution_count": 165,
   "metadata": {
    "collapsed": true
   },
   "outputs": [],
   "source": [
    "import numpy as np"
   ]
  },
  {
   "cell_type": "markdown",
   "metadata": {},
   "source": [
    "##### $GF(2^8)$下字节的加法与乘法"
   ]
  },
  {
   "cell_type": "code",
   "execution_count": 166,
   "metadata": {
    "collapsed": true
   },
   "outputs": [],
   "source": [
    "def GF_sum(num1, num2):\n",
    "    return num1 ^ num2\n",
    "\n",
    "def GF_mul(num1, num2):\n",
    "    res, tmp = 0, num1\n",
    "    i = 1\n",
    "    while i <= 128:\n",
    "        res = res ^ (0 if (num2 & i) == 0 else tmp)\n",
    "        i *= 2\n",
    "        if tmp & 0b10000000: tmp = (tmp * 2) % 256 ^ 0b00011011\n",
    "        else: tmp = (tmp * 2) % 256\n",
    "    return res"
   ]
  },
  {
   "cell_type": "code",
   "execution_count": 167,
   "metadata": {},
   "outputs": [
    {
     "data": {
      "text/plain": [
       "193"
      ]
     },
     "execution_count": 167,
     "metadata": {},
     "output_type": "execute_result"
    }
   ],
   "source": [
    "GF_mul(0b01010111, 0b10000011)"
   ]
  },
  {
   "cell_type": "markdown",
   "metadata": {},
   "source": [
    "#### 字节代替"
   ]
  },
  {
   "cell_type": "code",
   "execution_count": 106,
   "metadata": {
    "collapsed": true
   },
   "outputs": [],
   "source": [
    "S_box = np.array([\n",
    "    0x63, 0x7c, 0x77, 0x7b, 0xf2, 0x6b, 0x6f, 0xc5, 0x30, 0x01, 0x67, 0x2b, 0xfe, 0xd7, 0xab, 0x76,\n",
    "    0xca, 0x82, 0xc9, 0x7d, 0xfa, 0x59, 0x47, 0xf0, 0xad, 0xd4, 0xa2, 0xaf, 0x9c, 0xa4, 0x72, 0xc0,\n",
    "    0xb7, 0xfd, 0x93, 0x26, 0x36, 0x3f, 0xf7, 0xcc, 0x34, 0xa5, 0xe5, 0xf1, 0x71, 0xd8, 0x31, 0x15,\n",
    "    0x04, 0xc7, 0x23, 0xc3, 0x18, 0x96, 0x05, 0x9a, 0x07, 0x12, 0x80, 0xe2, 0xeb, 0x27, 0xb2, 0x75,\n",
    "    0x09, 0x83, 0x2c, 0x1a, 0x1b, 0x6e, 0x5a, 0xa0, 0x52, 0x3b, 0xd6, 0xb3, 0x29, 0xe3, 0x2f, 0x84,\n",
    "    0x53, 0xd1, 0x00, 0xed, 0x20, 0xfc, 0xb1, 0x5b, 0x6a, 0xcb, 0xbe, 0x39, 0x4a, 0x4c, 0x58, 0xcf,\n",
    "    0xd0, 0xef, 0xaa, 0xfb, 0x43, 0x4d, 0x33, 0x85, 0x45, 0xf9, 0x02, 0x7f, 0x50, 0x3c, 0x9f, 0xa8,\n",
    "    0x51, 0xa3, 0x40, 0x8f, 0x92, 0x9d, 0x38, 0xf5, 0xbc, 0xb6, 0xda, 0x21, 0x10, 0xff, 0xf3, 0xd2,\n",
    "    0xcd, 0x0c, 0x13, 0xec, 0x5f, 0x97, 0x44, 0x17, 0xc4, 0xa7, 0x7e, 0x3d, 0x64, 0x5d, 0x19, 0x73,\n",
    "    0x60, 0x81, 0x4f, 0xdc, 0x22, 0x2a, 0x90, 0x88, 0x46, 0xee, 0xb8, 0x14, 0xde, 0x5e, 0x0b, 0xdb,\n",
    "    0xe0, 0x32, 0x3a, 0x0a, 0x49, 0x06, 0x24, 0x5c, 0xc2, 0xd3, 0xac, 0x62, 0x91, 0x95, 0xe4, 0x79,\n",
    "    0xe7, 0xc8, 0x37, 0x6d, 0x8d, 0xd5, 0x4e, 0xa9, 0x6c, 0x56, 0xf4, 0xea, 0x65, 0x7a, 0xae, 0x08,\n",
    "    0xba, 0x78, 0x25, 0x2e, 0x1c, 0xa6, 0xb4, 0xc6, 0xe8, 0xdd, 0x74, 0x1f, 0x4b, 0xbd, 0x8b, 0x8a,\n",
    "    0x70, 0x3e, 0xb5, 0x66, 0x48, 0x03, 0xf6, 0x0e, 0x61, 0x35, 0x57, 0xb9, 0x86, 0xc1, 0x1d, 0x9e,\n",
    "    0xe1, 0xf8, 0x98, 0x11, 0x69, 0xd9, 0x8e, 0x94, 0x9b, 0x1e, 0x87, 0xe9, 0xce, 0x55, 0x28, 0xdf,\n",
    "    0x8c, 0xa1, 0x89, 0x0d, 0xbf, 0xe6, 0x42, 0x68, 0x41, 0x99, 0x2d, 0x0f, 0xb0, 0x54, 0xbb, 0x16])\n",
    "\n",
    "S_box_1 = np.array([\n",
    "    0x52, 0x09, 0x6a, 0xd5, 0x30, 0x36, 0xa5, 0x38, 0xbf, 0x40, 0xa3, 0x9e, 0x81, 0xf3, 0xd7, 0xfb,\n",
    "    0x7c, 0xe3, 0x39, 0x82, 0x9b, 0x2f, 0xff, 0x87, 0x34, 0x8e, 0x43, 0x44, 0xc4, 0xde, 0xe9, 0xcb,\n",
    "    0x54, 0x7b, 0x94, 0x32, 0xa6, 0xc2, 0x23, 0x3d, 0xee, 0x4c, 0x95, 0x0b, 0x42, 0xfa, 0xc3, 0x4e,\n",
    "    0x08, 0x2e, 0xa1, 0x66, 0x28, 0xd9, 0x24, 0xb2, 0x76, 0x5b, 0xa2, 0x49, 0x6d, 0x8b, 0xd1, 0x25,\n",
    "    0x72, 0xf8, 0xf6, 0x64, 0x86, 0x68, 0x98, 0x16, 0xd4, 0xa4, 0x5c, 0xcc, 0x5d, 0x65, 0xb6, 0x92,\n",
    "    0x6c, 0x70, 0x48, 0x50, 0xfd, 0xed, 0xb9, 0xda, 0x5e, 0x15, 0x46, 0x57, 0xa7, 0x8d, 0x9d, 0x84,\n",
    "    0x90, 0xd8, 0xab, 0x00, 0x8c, 0xbc, 0xd3, 0x0a, 0xf7, 0xe4, 0x58, 0x05, 0xb8, 0xb3, 0x45, 0x06,\n",
    "    0xd0, 0x2c, 0x1e, 0x8f, 0xca, 0x3f, 0x0f, 0x02, 0xc1, 0xaf, 0xbd, 0x03, 0x01, 0x13, 0x8a, 0x6b,\n",
    "    0x3a, 0x91, 0x11, 0x41, 0x4f, 0x67, 0xdc, 0xea, 0x97, 0xf2, 0xcf, 0xce, 0xf0, 0xb4, 0xe6, 0x73,\n",
    "    0x96, 0xac, 0x74, 0x22, 0xe7, 0xad, 0x35, 0x85, 0xe2, 0xf9, 0x37, 0xe8, 0x1c, 0x75, 0xdf, 0x6e,\n",
    "    0x47, 0xf1, 0x1a, 0x71, 0x1d, 0x29, 0xc5, 0x89, 0x6f, 0xb7, 0x62, 0x0e, 0xaa, 0x18, 0xbe, 0x1b,\n",
    "    0xfc, 0x56, 0x3e, 0x4b, 0xc6, 0xd2, 0x79, 0x20, 0x9a, 0xdb, 0xc0, 0xfe, 0x78, 0xcd, 0x5a, 0xf4,\n",
    "    0x1f, 0xdd, 0xa8, 0x33, 0x88, 0x07, 0xc7, 0x31, 0xb1, 0x12, 0x10, 0x59, 0x27, 0x80, 0xec, 0x5f,\n",
    "    0x60, 0x51, 0x7f, 0xa9, 0x19, 0xb5, 0x4a, 0x0d, 0x2d, 0xe5, 0x7a, 0x9f, 0x93, 0xc9, 0x9c, 0xef,\n",
    "    0xa0, 0xe0, 0x3b, 0x4d, 0xae, 0x2a, 0xf5, 0xb0, 0xc8, 0xeb, 0xbb, 0x3c, 0x83, 0x53, 0x99, 0x61,\n",
    "    0x17, 0x2b, 0x04, 0x7e, 0xba, 0x77, 0xd6, 0x26, 0xe1, 0x69, 0x14, 0x63, 0x55, 0x21, 0x0c, 0x7d])"
   ]
  },
  {
   "cell_type": "code",
   "execution_count": 141,
   "metadata": {
    "collapsed": true
   },
   "outputs": [],
   "source": [
    "def byte_sub(to_sub, cryp=1, key_extend=0): #1表示加密，即正向字节代替\n",
    "    res = to_sub.copy()\n",
    "    S = S_box if cryp == 1 else S_box_1\n",
    "    if key_extend:\n",
    "        for i in range(len(to_sub)):\n",
    "            res[i] = S[int(to_sub[i] & 0b11110000) + int(to_sub[i] & 0b00001111)]\n",
    "    else:\n",
    "        for i in range(len(to_sub)):\n",
    "            for j in range(len(to_sub[0])):\n",
    "                res[i,j] = S[int(to_sub[i,j] & 0b11110000) + int(to_sub[i,j] & 0b00001111)]\n",
    "    return res"
   ]
  },
  {
   "cell_type": "code",
   "execution_count": 180,
   "metadata": {},
   "outputs": [],
   "source": [
    "def show_in_hex(a,s = 1):\n",
    "    if s == 1:\n",
    "        for i in range(4):\n",
    "            for j in range(4):\n",
    "                print('%.2x'%a[i,j], end=' ')\n",
    "            print(' ')\n",
    "    else:\n",
    "        for i in range(len(a)):\n",
    "            print('%.2x'%a[i], end=' ')\n",
    "        print(' ')"
   ]
  },
  {
   "cell_type": "code",
   "execution_count": 185,
   "metadata": {},
   "outputs": [
    {
     "name": "stdout",
     "output_type": "stream",
     "text": [
      "ea 04 65 85  \n",
      "83 45 5d 96  \n",
      "5c 33 98 b0  \n",
      "f0 2d ad c5  \n",
      "**\n",
      "87 f2 4d 97  \n",
      "ec 6e 4c 90  \n",
      "4a c3 46 e7  \n",
      "8c d8 95 a6  \n",
      "**\n",
      "ea 04 65 85  \n",
      "83 45 5d 96  \n",
      "5c 33 98 b0  \n",
      "f0 2d ad c5  \n"
     ]
    }
   ],
   "source": [
    "#验证\n",
    "a = np.array([0xea,0x04,0x65,0x85,0x83,0x45,0x5d,0x96,\n",
    "              0x5c,0x33,0x98,0xb0,0xf0,0x2d,0xad,0xc5]).reshape(4,4)\n",
    "show_in_hex(a)\n",
    "print('**')\n",
    "show_in_hex(byte_sub(a))\n",
    "print('**')\n",
    "show_in_hex(byte_sub(byte_sub(a,cryp=-1)))"
   ]
  },
  {
   "cell_type": "markdown",
   "metadata": {},
   "source": [
    "#### 行移位"
   ]
  },
  {
   "cell_type": "code",
   "execution_count": 211,
   "metadata": {
    "collapsed": true
   },
   "outputs": [],
   "source": [
    "def row_shift(to_shift, cryp=1): #1表示加密，即正向行移位\n",
    "    res = to_shift.copy()\n",
    "    for i in range(1,4):\n",
    "        if cryp == 1:\n",
    "            res[i] = np.append(to_shift[i][i:], to_shift[i][:i])\n",
    "        else:\n",
    "            res[i] = np.append(to_shift[i][4-i:], to_shift[i][:4-i])\n",
    "    return res"
   ]
  },
  {
   "cell_type": "code",
   "execution_count": 187,
   "metadata": {},
   "outputs": [
    {
     "name": "stdout",
     "output_type": "stream",
     "text": [
      "00 01 02 03  \n",
      "04 05 06 07  \n",
      "08 09 0a 0b  \n",
      "0c 0d 0e 0f  \n",
      "**\n",
      "00 01 02 03  \n",
      "05 06 07 04  \n",
      "0a 0b 08 09  \n",
      "0f 0c 0d 0e  \n",
      "**\n",
      "00 01 02 03  \n",
      "04 05 06 07  \n",
      "08 09 0a 0b  \n",
      "0c 0d 0e 0f  \n"
     ]
    }
   ],
   "source": [
    "#验证\n",
    "b = np.arange(16).reshape(4,4)\n",
    "show_in_hex(b)\n",
    "print('**')\n",
    "show_in_hex(row_shift(b))\n",
    "print('**')\n",
    "show_in_hex(row_shift(row_shift(b),cryp=-1))"
   ]
  },
  {
   "cell_type": "markdown",
   "metadata": {},
   "source": [
    "#### 列混淆"
   ]
  },
  {
   "cell_type": "code",
   "execution_count": 131,
   "metadata": {
    "collapsed": true
   },
   "outputs": [],
   "source": [
    "matrix = np.array([[2,3,1,1],\n",
    "                   [1,2,3,1],\n",
    "                   [1,1,2,3],\n",
    "                   [3,1,1,2]],dtype=int)\n",
    "matrix_1 =np.array([[0X0E,0X0B,0X0D,0X09],\n",
    "                    [0X09,0X0E,0X0B,0X0D],\n",
    "                    [0X0D,0X09,0X0E,0X0B],\n",
    "                    [0X0B,0X0D,0X09,0X0E]],dtype=int)"
   ]
  },
  {
   "cell_type": "code",
   "execution_count": 132,
   "metadata": {
    "collapsed": true
   },
   "outputs": [],
   "source": [
    "def col_mix(to_mix, cryp=1):\n",
    "    res = np.zeros((4,4),dtype=int)\n",
    "    M = matrix if cryp == 1 else matrix_1\n",
    "    for i in range(4):\n",
    "        for j in range(4):\n",
    "            for k in range(4):\n",
    "                t =  GF_sum(res[i,j], GF_mul(M[i,k], to_mix[k,j]))\n",
    "                res[i,j] = GF_sum(res[i,j], GF_mul(M[i,k], to_mix[k,j]))\n",
    "    return res"
   ]
  },
  {
   "cell_type": "code",
   "execution_count": 188,
   "metadata": {},
   "outputs": [
    {
     "name": "stdout",
     "output_type": "stream",
     "text": [
      "87 f2 4d 97  \n",
      "6e 4c 90 ec  \n",
      "46 e7 4a c3  \n",
      "a6 8c d8 95  \n",
      "**\n",
      "47 40 a3 4c  \n",
      "37 d4 70 9f  \n",
      "94 e4 3a 42  \n",
      "ed a5 a6 bc  \n",
      "**\n",
      "87 f2 4d 97  \n",
      "6e 4c 90 ec  \n",
      "46 e7 4a c3  \n",
      "a6 8c d8 95  \n"
     ]
    }
   ],
   "source": [
    "#验证\n",
    "c = np.array([[0X87,0XF2,0X4D,0X97],\n",
    "                [0X6E,0X4C,0X90,0XEC],\n",
    "                [0X46,0XE7,0X4A,0XC3],\n",
    "                [0XA6,0X8C,0XD8,0X95]],dtype=int)\n",
    "show_in_hex(c)\n",
    "print('**')\n",
    "show_in_hex(col_mix(c))\n",
    "print('**')\n",
    "show_in_hex(col_mix(col_mix(c),cryp=-1))"
   ]
  },
  {
   "cell_type": "markdown",
   "metadata": {},
   "source": [
    "#### 轮密钥加"
   ]
  },
  {
   "cell_type": "code",
   "execution_count": 144,
   "metadata": {
    "collapsed": true
   },
   "outputs": [],
   "source": [
    "def key_add(data1, data2, key_extend=0):\n",
    "    res = data1.copy()\n",
    "    if key_extend:\n",
    "        for i in range(len(data1)):\n",
    "            res[i] = data1[i] ^ data2[i]\n",
    "    else:\n",
    "        for i in range(len(data1)):\n",
    "            for j in range(len(data1)):\n",
    "                res[i,j] = data1[i,j] ^ data2[i,j]\n",
    "    return res"
   ]
  },
  {
   "cell_type": "code",
   "execution_count": 189,
   "metadata": {},
   "outputs": [
    {
     "name": "stdout",
     "output_type": "stream",
     "text": [
      "eb 59 8b 1b  \n",
      "40 2e a1 c3  \n",
      "f2 38 13 42  \n",
      "1e 84 e7 d6  \n"
     ]
    }
   ],
   "source": [
    "#验证\n",
    "d = np.array([[0X47,0X40,0Xa3,0X4C],\n",
    "                [0X37,0XD4,0X70,0X9F],\n",
    "                [0X94,0XE4,0X3A,0X42],\n",
    "                [0XED,0XA5,0XA6,0XBC]],dtype=int)\n",
    "e = np.array([[0XAC,0X19,0X28,0X57],\n",
    "                [0X77,0XFA,0XD1,0X5C],\n",
    "                [0X66,0XDC,0X29,0X00],\n",
    "                [0XF3,0X21,0X41,0X6A]],dtype=int)\n",
    "show_in_hex(key_add(d,e))"
   ]
  },
  {
   "cell_type": "markdown",
   "metadata": {
    "collapsed": true
   },
   "source": [
    "#### 密钥扩展"
   ]
  },
  {
   "cell_type": "code",
   "execution_count": 155,
   "metadata": {
    "collapsed": true
   },
   "outputs": [],
   "source": [
    "RC = np.array([0x01, 0x02, 0x04, 0x08,0x10, \n",
    "               0x20,0x40, 0x80,0x1b, 0x36])\n",
    "def key_extend(key): #key是一个4*4的矩阵\n",
    "    res = np.zeros((44,4), dtype=int)\n",
    "    res[:4] = key.T\n",
    "    for i in range(4,44):\n",
    "        temp = res[i - 1]\n",
    "        if i % 4 == 0:\n",
    "            temp = np.append(res[i - 1][1:], res[i - 1][0])\n",
    "            temp = byte_sub(temp,key_extend=1)\n",
    "            temp[0] = temp[0] ^ RC[i // 4 - 1]\n",
    "        res[i] = key_add(temp, res[i - 4], key_extend=1)\n",
    "    return res "
   ]
  },
  {
   "cell_type": "code",
   "execution_count": 190,
   "metadata": {
    "collapsed": true
   },
   "outputs": [
    {
     "name": "stdout",
     "output_type": "stream",
     "text": [
      "0f 47 0c af  \n",
      "15 d9 b7 7f  \n",
      "71 e8 ad 67  \n",
      "c9 59 d6 98  \n",
      "[[ 15  71  12 175]\n",
      " [ 21 217 183 127]\n",
      " [113 232 173 103]\n",
      " [201  89 214 152]]\n",
      "0f 15 71 c9  \n",
      "47 d9 e8 59  \n",
      "0c b7 ad d6  \n",
      "af 7f 67 98  \n",
      "dc 90 37 b0  \n",
      "9b 49 df e9  \n",
      "97 fe 72 3f  \n",
      "38 81 15 a7  \n",
      "d2 c9 6b b7  \n",
      "49 80 b4 5e  \n",
      "de 7e c6 61  \n",
      "e6 ff d3 c6  \n",
      "c0 af df 39  \n",
      "89 2f 6b 67  \n",
      "57 51 ad 06  \n",
      "b1 ae 7e c0  \n",
      "2c 5c 65 f1  \n",
      "a5 73 0e 96  \n",
      "f2 22 a3 90  \n",
      "43 8c dd 50  \n",
      "58 9d 36 eb  \n",
      "fd ee 38 7d  \n",
      "0f cc 9b ed  \n",
      "4c 40 46 bd  \n",
      "71 c7 4c c2  \n",
      "8c 29 74 bf  \n",
      "83 e5 ef 52  \n",
      "cf a5 a9 ef  \n",
      "37 14 93 48  \n",
      "bb 3d e7 f7  \n",
      "38 d8 08 a5  \n",
      "f7 7d a1 4a  \n",
      "48 26 45 20  \n",
      "f3 1b a2 d7  \n",
      "cb c3 aa 72  \n",
      "3c be 0b 38  \n",
      "fd 0d 42 cb  \n",
      "0e 16 e0 1c  \n",
      "c5 d5 4a 6e  \n",
      "f9 6b 41 56  \n",
      "b4 8e f3 52  \n",
      "ba 98 13 4e  \n",
      "7f 4d 59 20  \n",
      "86 26 18 76  \n"
     ]
    }
   ],
   "source": [
    "#验证\n",
    "key = np.array([[0X0F,0X15,0X71,0XC9],\n",
    "               [0X47,0XD9,0XE8,0X59],\n",
    "               [0X0C,0XB7,0XAD,0XD6],\n",
    "               [0XAF,0X7F,0X67,0X98]]).T\n",
    "show_in_hex(key)\n",
    "print(key)\n",
    "key_all = key_extend(key)\n",
    "for i in range(44):\n",
    "    for j in range(4):\n",
    "        print('%.2x'%key_all[i,j], end=' ')\n",
    "    print(' ')"
   ]
  },
  {
   "cell_type": "markdown",
   "metadata": {},
   "source": [
    "#### AES加密解密算法"
   ]
  },
  {
   "cell_type": "code",
   "execution_count": 218,
   "metadata": {},
   "outputs": [],
   "source": [
    "def AES_cryp(data, key_all, cryp=1):\n",
    "    '''\n",
    "    data是4*4矩阵，key_all是11个密钥，shape=(44,4)，使用时要转置\n",
    "    '''\n",
    "    start = 0 if cryp == 1 else 40\n",
    "    key0 = key_all[start: start + 4].T\n",
    "    res = key_add(data, key0)\n",
    "    for i in range(1,10):\n",
    "        start = 4 * i if cryp == 1 else 40 - 4 * i\n",
    "        key_i = key_all[start:start+4].T\n",
    "        if cryp == -1:\n",
    "            key_i = col_mix(key_i, cryp) #若是解密，先对密钥进行逆向列混淆，才可以交换列混淆和轮密钥加的顺序\n",
    "        res = byte_sub(res,cryp)\n",
    "        res = row_shift(res, cryp)\n",
    "        res = col_mix(res,cryp)\n",
    "        res = key_add(res,key_i)\n",
    "    start = 40 if cryp == 1 else 0\n",
    "    key_10 = key_all[start:start+4].T\n",
    "    res = byte_sub(res,cryp)\n",
    "    res = row_shift(res, cryp)\n",
    "    res = key_add(res,key_10)\n",
    "    return res"
   ]
  },
  {
   "cell_type": "code",
   "execution_count": 219,
   "metadata": {
    "collapsed": true
   },
   "outputs": [],
   "source": [
    "data = np.array([[0x01,0x23,0x45,0x67],\n",
    "                [0x89,0xab,0xcd,0xef],\n",
    "                [0xfe,0xdc,0xba,0x98],\n",
    "                [0x76,0x54,0x32,0x10]]).T\n",
    "\n",
    "key = np.array([[0X0F,0X15,0X71,0XC9],\n",
    "               [0X47,0XD9,0XE8,0X59],\n",
    "               [0X0C,0XB7,0XAD,0XD6],\n",
    "               [0XAF,0X7F,0X67,0X98]]).T\n",
    "key_all = key_extend(key)"
   ]
  },
  {
   "cell_type": "code",
   "execution_count": 222,
   "metadata": {},
   "outputs": [
    {
     "name": "stdout",
     "output_type": "stream",
     "text": [
      "明文是：\n",
      "01 89 fe 76  \n",
      "23 ab dc 54  \n",
      "45 cd ba 32  \n",
      "67 ef 98 10  \n",
      "加密后：\n",
      "ff 08 69 64  \n",
      "0b 53 34 14  \n",
      "84 bf ab 8f  \n",
      "4a 7c 43 b9  \n",
      "解密后：\n",
      "01 89 fe 76  \n",
      "23 ab dc 54  \n",
      "45 cd ba 32  \n",
      "67 ef 98 10  \n"
     ]
    }
   ],
   "source": [
    "print('明文是：')\n",
    "show_in_hex(data)\n",
    "C = AES_cryp(data, key_all)\n",
    "P = AES_cryp(C, key_all, -1)\n",
    "print('加密后：')\n",
    "show_in_hex(C)\n",
    "print('解密后：')\n",
    "show_in_hex(P)"
   ]
  },
  {
   "cell_type": "code",
   "execution_count": 250,
   "metadata": {
    "collapsed": true
   },
   "outputs": [],
   "source": [
    "def get_data_16_byte(s): #把16字节的字符串转为4*4的矩阵\n",
    "    res = np.zeros((4,4), dtype=int)\n",
    "    for i in range(len(s)):\n",
    "        res[i % 4, i // 4] = ord(s[i])\n",
    "    return res\n",
    "\n",
    "def cut_data_16(sentence):\n",
    "    res = []\n",
    "    i = 0\n",
    "    while (i + 1) * 16 <= len(sentence):\n",
    "        data = get_data_16_byte(sentence[i * 16: (i + 1) * 16])\n",
    "        res.append(data)\n",
    "        i += 1\n",
    "    if i * 16 < len(sentence):\n",
    "        data = get_data_16_byte(sentence[i * 16:])\n",
    "        res.append(data)\n",
    "    return res\n"
   ]
  },
  {
   "cell_type": "code",
   "execution_count": 251,
   "metadata": {
    "collapsed": true
   },
   "outputs": [],
   "source": [
    "def AES_encryp_decryp_sentence(sentence, key_all, cryp=1):\n",
    "    data_all = cut_data_16(sentence)\n",
    "    res = []\n",
    "    for each in data_all:\n",
    "        res.append(AES_cryp(each,key_all,cryp))\n",
    "    res_sentence = ''\n",
    "    for each in res:\n",
    "        for i in range(4):#把4*4的矩阵转为16字节的字符串\n",
    "            for j in range(4):\n",
    "                res_sentence += chr(each[j,i])\n",
    "                if each[j,i] == '\\0': return res_sentence[:-1]\n",
    "    return res_sentence"
   ]
  },
  {
   "cell_type": "code",
   "execution_count": 253,
   "metadata": {},
   "outputs": [
    {
     "name": "stdout",
     "output_type": "stream",
     "text": [
      "明文是： let us make an examination, this is a sentence with length 62!\n",
      "加密后： ³'ÛnS¢Ñ51À&«ñÖ®\u001e",
      "û¼\u0019:&\u0018§\\É\u001a·yøÅMÉ\u001e",
      "sñ´~\u000f\u0001\u0000{£î\u001d",
      "á\t´×\u0010³ó\u001bAÖú¼¿\n",
      "解密后： let us make an examination, this is a sentence with length 62!\u0000\u0000\n"
     ]
    }
   ],
   "source": [
    "#确定密钥\n",
    "key_str = 'This is a Secret'\n",
    "key = get_data_16_byte(key_str)\n",
    "key_all = key_extend(key)\n",
    "#明文\n",
    "sentence = 'let us make an examination, this is a sentence with length 62!'\n",
    "C_sentence = AES_encryp_decryp_sentence(sentence, key_all, 1)\n",
    "P_sentence = AES_encryp_decryp_sentence(C_sentence, key_all, -1)\n",
    "print('明文是：', sentence)\n",
    "print('加密后：', C_sentence)\n",
    "print('解密后：', P_sentence)"
   ]
  },
  {
   "cell_type": "code",
   "execution_count": null,
   "metadata": {
    "collapsed": true
   },
   "outputs": [],
   "source": []
  },
  {
   "cell_type": "code",
   "execution_count": null,
   "metadata": {
    "collapsed": true
   },
   "outputs": [],
   "source": []
  }
 ],
 "metadata": {
  "kernelspec": {
   "display_name": "Python 3",
   "language": "python",
   "name": "python3"
  },
  "language_info": {
   "codemirror_mode": {
    "name": "ipython",
    "version": 3
   },
   "file_extension": ".py",
   "mimetype": "text/x-python",
   "name": "python",
   "nbconvert_exporter": "python",
   "pygments_lexer": "ipython3",
   "version": "3.6.3"
  }
 },
 "nbformat": 4,
 "nbformat_minor": 2
}
