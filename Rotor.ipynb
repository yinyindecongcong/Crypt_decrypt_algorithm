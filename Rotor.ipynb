{
 "cells": [
  {
   "cell_type": "markdown",
   "metadata": {},
   "source": [
    "### 转轮机（多次代替密码，以两个圆筒为例）"
   ]
  },
  {
   "cell_type": "markdown",
   "metadata": {},
   "source": [
    "**1. 转轮机由多个圆筒组成，每个圆筒有26个输入引脚和26个输出引脚，分别表示26个字母。**\n",
    "\n",
    "**2. 考虑只有一个圆筒的转轮机，每输入一个字符，圆筒就旋转一个位置，内部连线相应改变，即为一个周期为26的多表代替密码。**\n",
    "\n",
    "**3. 多个圆筒时，每输入一个字符，第一个圆筒就旋转一个位置；当第一个圆筒旋转一周时，第二个圆筒旋转一个位置，以此类推。**"
   ]
  },
  {
   "cell_type": "code",
   "execution_count": 3,
   "metadata": {
    "collapsed": true
   },
   "outputs": [],
   "source": [
    "import re"
   ]
  },
  {
   "cell_type": "code",
   "execution_count": 7,
   "metadata": {
    "collapsed": true
   },
   "outputs": [],
   "source": [
    "#规定密钥\n",
    "ls1 = [0,18,9,13,25,19,7,15,6,21,3,10,4,16,8,11,22,17,1,24,5,23,12,20,2,14]\n",
    "ls2 = [0,5,3,14,2,13,11,22,4,15,1,21,18,10,17,24,23,12,6,9,7,20,8,25,16,19]"
   ]
  },
  {
   "cell_type": "code",
   "execution_count": 100,
   "metadata": {},
   "outputs": [],
   "source": [
    "def crypt_rotor_one_word(word, ls1, ls2):\n",
    "    left_ls1, left_ls2 = [i for i in range(26)], [i for i in range(26)]\n",
    "    right_ls1, right_ls2 = ls1, ls2\n",
    "    res = ''\n",
    "    for letter in word.lower():\n",
    "        in1 = left_ls1[ord(letter) - ord('a')]\n",
    "        out1 = right_ls1.index(in1)\n",
    "        in2 = left_ls2[out1]\n",
    "        out2= right_ls2.index(in2)\n",
    "        res += chr(out2 + ord('a'))\n",
    "        left_ls1, right_ls1 = left_ls1[-1:] + left_ls1[:-1], right_ls1[-1:] + right_ls1[:-1]\n",
    "        if left_ls1[0] == 0: \n",
    "            left_ls2, right_ls2 = left_ls2[-1:] + left_ls2[:-1], right_ls2[-1:] + right_ls2[:-1]\n",
    "    return res\n",
    "\n",
    "def decrypt_rotor_one_word(word, ls1, ls2):\n",
    "    left_ls1, left_ls2 = [i for i in range(26)], [i for i in range(26)]\n",
    "    right_ls1, right_ls2 = ls1, ls2\n",
    "    res = ''\n",
    "    i, j = (len(word) - 1) % 26, (len(word) - 1) // 26\n",
    "    left_ls1, right_ls1 = left_ls1[-i:] + left_ls1[:-i], right_ls1[-i:] + right_ls1[:-i]\n",
    "    left_ls2, right_ls2 = left_ls2[-j:] + left_ls2[:-j], right_ls2[-j:] + right_ls2[:-j]\n",
    "    for letter in word[::-1]:\n",
    "        in1 = right_ls2[ord(letter) - ord('a')]\n",
    "        out1 = left_ls2.index(in1)\n",
    "        in2 = right_ls1[out1]\n",
    "        out2= left_ls1.index(in2)\n",
    "        res += chr(out2 + ord('a'))\n",
    "        if left_ls1[0] == 0: \n",
    "            left_ls2, right_ls2 = left_ls2[1:] + left_ls2[:1], right_ls2[1:] + right_ls2[:1]\n",
    "        left_ls1, right_ls1 = left_ls1[1:] + left_ls1[:1], right_ls1[1:] + right_ls1[:1]\n",
    "    return res[::-1]\n",
    "\n",
    "def crypt_decrypt_rotor_sentence(sentence, ls1, ls2, cryp=1):\n",
    "    res = sentence\n",
    "    for word in re.findall(r'[a-zA-Z]+', sentence):\n",
    "        sub_res = crypt_rotor_one_word(word, ls1, ls2) if cryp == 1 \\\n",
    "                    else decrypt_rotor_one_word(word, ls1, ls2)\n",
    "        res = re.sub('\\\\b' + word + '\\\\b', sub_res, res)\n",
    "    return res"
   ]
  },
  {
   "cell_type": "code",
   "execution_count": 103,
   "metadata": {},
   "outputs": [
    {
     "name": "stdout",
     "output_type": "stream",
     "text": [
      "明文：this is a long skrrrrrrrrrrrrrrrrrrrrrrrrrrrrrrrrrrrrrr\n",
      "密文：btnn dm a jiof kcteuklmnqyzsxpfwohrjgbvcazgxltbwpuikncq\n",
      "解密：this is a long skrrrrrrrrrrrrrrrrrrrrrrrrrrrrrrrrrrrrrr\n"
     ]
    }
   ],
   "source": [
    "sentence = 'this is a long skrrrrrrrrrrrrrrrrrrrrrrrrrrrrrrrrrrrrrr'\n",
    "C = crypt_decrypt_rotor_sentence(sentence, ls1, ls2)\n",
    "P = crypt_decrypt_rotor_sentence(C, ls1, ls2, -1)\n",
    "print(\"明文：\" + sentence)\n",
    "print(\"密文：\" + C)\n",
    "print(\"解密：\" + P)"
   ]
  },
  {
   "cell_type": "code",
   "execution_count": null,
   "metadata": {
    "collapsed": true
   },
   "outputs": [],
   "source": []
  }
 ],
 "metadata": {
  "kernelspec": {
   "display_name": "Python 3",
   "language": "python",
   "name": "python3"
  },
  "language_info": {
   "codemirror_mode": {
    "name": "ipython",
    "version": 3
   },
   "file_extension": ".py",
   "mimetype": "text/x-python",
   "name": "python",
   "nbconvert_exporter": "python",
   "pygments_lexer": "ipython3",
   "version": "3.6.3"
  }
 },
 "nbformat": 4,
 "nbformat_minor": 2
}
